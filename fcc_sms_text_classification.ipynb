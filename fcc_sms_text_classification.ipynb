{
  "cells": [
    {
      "cell_type": "code",
      "execution_count": null,
      "metadata": {
        "id": "8RZOuS9LWQvv"
      },
      "outputs": [],
      "source": [
        "# import libraries\n",
        "try:\n",
        "  # %tensorflow_version only exists in Colab.\n",
        "  !pip install tf-nightly\n",
        "except Exception:\n",
        "  pass\n",
        "import tensorflow as tf\n",
        "import pandas as pd\n",
        "from tensorflow import keras\n",
        "!pip install tensorflow-datasets\n",
        "import tensorflow_datasets as tfds\n",
        "import numpy as np\n",
        "import matplotlib.pyplot as plt\n",
        "from keras.preprocessing.sequence import pad_sequences"
      ]
    },
    {
      "cell_type": "code",
      "execution_count": null,
      "metadata": {
        "id": "lMHwYXHXCar3"
      },
      "outputs": [],
      "source": [
        "# get data files\n",
        "!wget https://cdn.freecodecamp.org/project-data/sms/train-data.tsv\n",
        "!wget https://cdn.freecodecamp.org/project-data/sms/valid-data.tsv\n",
        "\n",
        "train_file_path = \"train-data.tsv\"\n",
        "test_file_path = \"valid-data.tsv\""
      ]
    },
    {
      "cell_type": "code",
      "execution_count": null,
      "metadata": {
        "id": "g_h508FEClxO"
      },
      "outputs": [],
      "source": [
        "df_train = pd.read_csv(\"train-data.tsv\", sep='\\t', header=None, names=['class', 'text'])\n",
        "df_val = pd.read_csv(\"valid-data.tsv\", sep='\\t', header=None, names=['class', 'text'])\n",
        "# header = None -> prevents first row into column name\n",
        "\n",
        "print(df_train.shape)\n",
        "print(df_val.shape)\n",
        "df_train"
      ]
    },
    {
      "cell_type": "code",
      "source": [
        "max_len = max(len(text.split()) for text in df_train[\"text\"])\n",
        "print(max_len)"
      ],
      "metadata": {
        "id": "FoMLpUtufEgq"
      },
      "execution_count": null,
      "outputs": []
    },
    {
      "cell_type": "code",
      "source": [
        "# calculate vocabulary size (number of unique tokens)\n",
        "\n",
        "vocabulary_dict = {}\n",
        "for messgae in df_train.text:\n",
        "  for vocabulary in messgae.split():\n",
        "    if vocabulary not in vocabulary_dict:\n",
        "      vocabulary_dict[vocabulary] = 1\n",
        "    else:\n",
        "      vocabulary_dict[vocabulary] += 1\n",
        "\n",
        "max_features = len(vocabulary_dict)\n",
        "\n",
        "print(max_features)"
      ],
      "metadata": {
        "id": "oXXck3oK34di"
      },
      "execution_count": null,
      "outputs": []
    },
    {
      "cell_type": "code",
      "source": [
        "# handle categorical data\n",
        "# cat.codes return Series of codes and index\n",
        "y_train = df_train['class'].astype('category').cat.codes\n",
        "y_train = np.array(y_train)\n",
        "\n",
        "y_val = df_val['class'].astype('category').cat.codes\n",
        "y_val = np.array(y_val)\n",
        "\n",
        "X_train = df_train.text\n",
        "X_val = df_val.text"
      ],
      "metadata": {
        "id": "F7QrH5cSau33"
      },
      "execution_count": null,
      "outputs": []
    },
    {
      "cell_type": "code",
      "source": [
        "# inspect data with bar chart\n",
        "\n",
        "bar = df_train['class'].value_counts()\n",
        "plt.bar(bar.index, bar)\n",
        "plt.xlabel('class')\n",
        "plt.title('Number of ham and spam messages')"
      ],
      "metadata": {
        "id": "0h0ZET2jbcfL"
      },
      "execution_count": null,
      "outputs": []
    },
    {
      "cell_type": "markdown",
      "source": [
        "**Text preprocessing - One Hot Encoding** from keras"
      ],
      "metadata": {
        "id": "58C8gtap7Ycn"
      }
    },
    {
      "cell_type": "code",
      "source": [
        "from keras.preprocessing.text import one_hot\n",
        "\n",
        "encoded_train = [one_hot(text, max_features) for text in df_train.text]\n",
        "encoded_val = [one_hot(text, max_features) for text in df_val.text]\n",
        "\n",
        "# padding to the max length\n",
        "X_train = pad_sequences(encoded_train, maxlen=max_len, padding='post')\n",
        "X_val = pad_sequences(encoded_val, maxlen=max_len, padding='post')"
      ],
      "metadata": {
        "id": "RRbhyCZfi1On"
      },
      "execution_count": null,
      "outputs": []
    },
    {
      "cell_type": "code",
      "source": [
        "print(X_train.shape)\n",
        "print(y_train.shape)\n",
        "print(X_val.shape)"
      ],
      "metadata": {
        "id": "iXzOzz8Av05G"
      },
      "execution_count": null,
      "outputs": []
    },
    {
      "cell_type": "code",
      "source": [
        "from keras.models import Sequential\n",
        "from keras.layers import Flatten, Dense, LSTM, Embedding, Input, Dropout\n",
        "\n",
        "batch_size = 32\n",
        "\n",
        "model = Sequential()\n",
        "\n",
        "# Specify the maximum input length as Input layer ('input_length' doesn't work as an attribute in the Embedding layer)\n",
        "model.add(Input(shape = [max_len]))\n",
        "\n",
        "model.add(Embedding(max_features, 100))\n",
        "\n",
        "model.add(Dense(32, activation='relu'))\n",
        "\n",
        "# We flatten the 3D tensor of embeddings into a 2D tensor\n",
        "model.add(Flatten())\n",
        "\n",
        "#model.add(Dropout(0.5))\n",
        "\n",
        "# Add classifier on top\n",
        "model.add(Dense(1, activation='sigmoid'))\n",
        "\n",
        "model.compile(optimizer='adam', loss='binary_crossentropy', metrics=['acc'])\n",
        "model.summary()\n",
        "\n",
        "history = model.fit(X_train, y_train,\n",
        "                    epochs=20,\n",
        "                    batch_size=batch_size,\n",
        "                    validation_data=(X_val, y_val))"
      ],
      "metadata": {
        "id": "Y51vLzcLi-Um"
      },
      "execution_count": null,
      "outputs": []
    },
    {
      "cell_type": "code",
      "source": [
        "# Visualize training curve (loss)\n",
        "plt.plot(history.history['loss'], label='loss')\n",
        "plt.plot(history.history['val_loss'], label='val_loss')\n",
        "plt.legend()"
      ],
      "metadata": {
        "id": "2PocrlyG4h_6"
      },
      "execution_count": null,
      "outputs": []
    },
    {
      "cell_type": "code",
      "execution_count": null,
      "metadata": {
        "id": "J9tD9yACG6M9"
      },
      "outputs": [],
      "source": [
        "# function to predict messages based on model\n",
        "# (should return list containing prediction and label, ex. [0.008318834938108921, 'ham'])\n",
        "def predict_message(pred_text):\n",
        "  encoded = [one_hot(pred_text, max_features)]\n",
        "  padded = pad_sequences(encoded, maxlen=max_len, padding='post')\n",
        "\n",
        "  class_dict = {\n",
        "      0 : \"ham\",\n",
        "      1 : \"spam\"\n",
        "      }\n",
        "\n",
        "  prediction = [model.predict(padded)[0][0], class_dict[np.round(model.predict(padded)[0][0])]]\n",
        "\n",
        "  return prediction\n",
        "\n",
        "pred_text = \"how are you doing today?\"\n",
        "\n",
        "prediction = predict_message(pred_text)\n",
        "print(prediction)"
      ]
    },
    {
      "cell_type": "code",
      "execution_count": null,
      "metadata": {
        "id": "Dxotov85SjsC"
      },
      "outputs": [],
      "source": [
        "# Run this cell to test your function and model. Do not modify contents.\n",
        "def test_predictions():\n",
        "  test_messages = [\"how are you doing today\",\n",
        "                   \"i dont want to go. can we try it a different day? available sat\",\n",
        "                   \"our new mobile video service is live. just install on your phone to start watching.\",\n",
        "                   \"you have won £1000 cash! call to claim your prize.\",\n",
        "                   \"i'll bring it tomorrow. don't forget the milk.\",\n",
        "                   \"wow, is your arm alright. that happened to me one time too\"\n",
        "                  ]\n",
        "\n",
        "  test_answers = [\"ham\", \"ham\", \"spam\", \"spam\", \"ham\", \"ham\"]\n",
        "  passed = True\n",
        "\n",
        "  for msg, ans in zip(test_messages, test_answers):\n",
        "    prediction = predict_message(msg)\n",
        "    if prediction[1] != ans:\n",
        "      passed = False\n",
        "\n",
        "  if passed:\n",
        "    print(\"You passed the challenge. Great job!\")\n",
        "  else:\n",
        "    print(\"You haven't passed yet. Keep trying.\")\n",
        "\n",
        "test_predictions()\n"
      ]
    }
  ],
  "metadata": {
    "colab": {
      "private_outputs": true,
      "provenance": []
    },
    "kernelspec": {
      "display_name": "Python 3",
      "name": "python3"
    },
    "language_info": {}
  },
  "nbformat": 4,
  "nbformat_minor": 0
}